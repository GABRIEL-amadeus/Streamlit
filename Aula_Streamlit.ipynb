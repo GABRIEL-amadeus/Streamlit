{
  "nbformat": 4,
  "nbformat_minor": 0,
  "metadata": {
    "colab": {
      "provenance": [],
      "authorship_tag": "ABX9TyPppfAeJIGVAz8DQrf810uW",
      "include_colab_link": true
    },
    "kernelspec": {
      "name": "python3",
      "display_name": "Python 3"
    },
    "language_info": {
      "name": "python"
    }
  },
  "cells": [
    {
      "cell_type": "markdown",
      "metadata": {
        "id": "view-in-github",
        "colab_type": "text"
      },
      "source": [
        "<a href=\"https://colab.research.google.com/github/GABRIEL-amadeus/Streamlit/blob/main/Aula_Streamlit.ipynb\" target=\"_parent\"><img src=\"https://colab.research.google.com/assets/colab-badge.svg\" alt=\"Open In Colab\"/></a>"
      ]
    },
    {
      "cell_type": "markdown",
      "source": [
        "## Feito por Gabriel, Guilherme, Hiara, Samuel"
      ],
      "metadata": {
        "id": "LJj0-MHNVzLa"
      }
    },
    {
      "cell_type": "markdown",
      "source": [
        "# Sistema de cadastro e consulta de tarefas"
      ],
      "metadata": {
        "id": "tOHRFKeqNXit"
      }
    },
    {
      "cell_type": "markdown",
      "source": [
        "####Este projeto tem como objetivo desenvolver um sistema simples de cadastro e consulta de tarefas, utilizando a biblioteca Streamlit para criar uma interface gráfica interativa. O sistema faz uso de dois arquivos de texto:\n",
        "\n",
        "\n",
        "\n",
        "*  usuarios.txt: armazena os nomes dos usuários, um por linha.\n",
        "*  tarefas.txt: armazena as tarefas cadastradas no formato | usuario | descricao | prioridade | .\n",
        "\n",
        "\n",
        "####A aplicação está dividida em dois arquivos principais:\n",
        "\n",
        "\n",
        "\n",
        "*   app.py: responsável pela interface com o usuário.\n",
        "*  funcoes.py: concentra todas as funções auxiliares responsáveis por ler, salvar e filtrar dados.\n",
        "\n",
        "\n",
        "#### Na interface, o usuário pode escolher entre as opções:\n",
        "\n",
        "\n",
        "\n",
        "*   Cadastrar tarefa: seleciona o nome do usuário, insere a descrição da tarefa e define a prioridade (Alta, Média ou Baixa).\n",
        "\n",
        "*  Visualizar tarefas: permite consultar todas as tarefas de um usuário, organizadas por prioridade.\n",
        "\n",
        "\n",
        "\n"
      ],
      "metadata": {
        "id": "r0Rw91GfSFL0"
      }
    },
    {
      "cell_type": "markdown",
      "source": [
        "## Aqui estão os códigos:\n",
        "\n",
        "###app.py:"
      ],
      "metadata": {
        "id": "OqDeNKlJSIiE"
      }
    },
    {
      "cell_type": "code",
      "source": [
        "import streamlit as st\n",
        "from funcoes import import_user, salvar_tar, c_tar, fil_tar_p_user\n",
        "\n",
        "st.title(\"Sistema de Tarefas\")\n",
        "st.sidebar.title(\"Menu\")\n",
        "\n",
        "menu = st.sidebar.radio(\"selecione:\", [\"Adicionar tarefa\", \"Visualizar tarefas\"])\n",
        "\n",
        "user = import_user()\n",
        "\n",
        "if menu == \"Adicionar tarefa\":\n",
        "    st.header(\"adicionar nova tarefa\")\n",
        "\n",
        "    if user:\n",
        "        user = st.selectbox(\"Usuário\", user)\n",
        "        descricao = st.text_input(\"Descrição da tarefa\")\n",
        "        prioridade = st.selectbox(\"Prioridade\", [\"Alta\", \"Média\", \"Baixa\"])\n",
        "\n",
        "        if st.button(\"Salvar\"):\n",
        "            if descricao.strip():\n",
        "                salvar_tar(user, descricao, prioridade)\n",
        "                st.success(\"Tarefa salva com sucesso!\")\n",
        "            else:\n",
        "                st.warning(\"Por favor, preencha a descrição da tarefa.\")\n",
        "    else:\n",
        "        st.error(\"Nenhum usuário encontrado. Adicione usuários no arquivo 'usuarios.txt'.\")\n",
        "\n",
        "elif menu == \"Visualizar tarefas\":\n",
        "    st.header(\"Visualizar tarefas por usuário\")\n",
        "\n",
        "    if user:\n",
        "        user = st.selectbox(\"Escolha o usuário\", user)\n",
        "        tar = c_tar()\n",
        "        tar_user = fil_tar_p_user(tar, user)\n",
        "\n",
        "        prioridades = {\"Alta\": [], \"Média\": [], \"Baixa\": []}\n",
        "        for t in tar_user:\n",
        "            prioridades[t[\"prioridade\"]].append(t[\"descricao\"])\n",
        "\n",
        "        for prioridade, lista in prioridades.items():\n",
        "            st.subheader(f\"Tarefas de prioridade {prioridade}\")\n",
        "            if lista:\n",
        "                for tar in lista:\n",
        "                    st.write(f\"• {tar}\")\n",
        "            else:\n",
        "                st.write(\"Nenhuma tarefa.\")\n",
        "    else:\n",
        "        st.error(\"Nenhum usuário disponível para visualização.\")\n",
        "\n",
        "\n",
        "def salvar_tar(user, descricao, prioridade, caminho=\"tar.txt\"):\n",
        "    with open(caminho, \"a\") as f:\n",
        "        f.write(f\"{user}|{descricao}|{prioridade}\\n\")"
      ],
      "metadata": {
        "id": "MHiwW-XESQX5"
      },
      "execution_count": null,
      "outputs": []
    },
    {
      "cell_type": "markdown",
      "source": [
        "### funcoes.py:\n"
      ],
      "metadata": {
        "id": "poxMJIjaUDRF"
      }
    },
    {
      "cell_type": "code",
      "source": [
        "def import_users(caminho=\"users.txt\"):\n",
        "    try:\n",
        "        with open(caminho, \"r\") as f:\n",
        "            return [linha.strip() for linha in f if linha.strip()]\n",
        "    except FileNotFoundError:\n",
        "        return []\n",
        "\n",
        "\n",
        "def c_tar(caminho=\"tar.txt\"):\n",
        "    tar = []\n",
        "    try:\n",
        "        with open(caminho, \"r\") as f:\n",
        "            for linha in f:\n",
        "                part = linha.strip().split(\"|\")\n",
        "                if len(part) >= 3:\n",
        "                    tar.append({\n",
        "                        \"usuario\": part[0],\n",
        "                        \"descricao\": part[1],\n",
        "                        \"prioridade\": part[2]\n",
        "                    })\n",
        "    except FileNotFoundError:\n",
        "        pass\n",
        "    return tar\n",
        "\n",
        "\n",
        "def fil_tar_p_user(tar, user):\n",
        "    return [t for t in tar if t[\"usuario\"] == user]\n"
      ],
      "metadata": {
        "id": "vjPpMcYbUco2"
      },
      "execution_count": null,
      "outputs": []
    },
    {
      "cell_type": "markdown",
      "source": [
        "### tarefas.txt:"
      ],
      "metadata": {
        "id": "8BM66PTAUoR5"
      }
    },
    {
      "cell_type": "markdown",
      "source": [
        "Ana|Comprar pão|Alta\n",
        "\n",
        "Gabriel|Estudar Python|Média\n",
        "\n",
        "Ana|Ir à academia|Baixa"
      ],
      "metadata": {
        "id": "oPSojEyXUwQd"
      }
    },
    {
      "cell_type": "markdown",
      "source": [
        "### usuarios.txt"
      ],
      "metadata": {
        "id": "OnwbzqDpU16G"
      }
    },
    {
      "cell_type": "markdown",
      "source": [
        "Ana\n",
        "\n",
        "Gabriel\n",
        "\n",
        "Natália"
      ],
      "metadata": {
        "id": "gcqjFJbIU8oh"
      }
    }
  ]
}